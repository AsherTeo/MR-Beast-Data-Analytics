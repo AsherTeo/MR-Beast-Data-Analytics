{
 "cells": [
  {
   "cell_type": "code",
   "execution_count": 1,
   "id": "e911471b-0014-440e-a5c7-defacaa7b1aa",
   "metadata": {},
   "outputs": [
    {
     "name": "stderr",
     "output_type": "stream",
     "text": [
      "[nltk_data] Downloading package punkt to\n",
      "[nltk_data]     C:\\Users\\User\\AppData\\Roaming\\nltk_data...\n",
      "[nltk_data]   Package punkt is already up-to-date!\n",
      "[nltk_data] Downloading package punkt to\n",
      "[nltk_data]     C:\\Users\\User\\AppData\\Roaming\\nltk_data...\n",
      "[nltk_data]   Package punkt is already up-to-date!\n"
     ]
    }
   ],
   "source": [
    "from datetime import datetime\n",
    "from IPython.display import JSON\n",
    "from datetime import timedelta\n",
    "from nltk.tokenize import word_tokenize\n",
    "from nltk.corpus import stopwords\n",
    "from scipy.stats import norm, skew\n",
    "from scipy import stats\n",
    "\n",
    "from Functions import *\n",
    "\n",
    "import string\n",
    "import pandas as pd\n",
    "import numpy as np\n",
    "import seaborn as sns\n",
    "import matplotlib.pyplot as plt\n",
    "import warnings \n",
    "\n",
    "import isodate\n",
    "import nltk\n",
    "import ast\n",
    "import re\n",
    "import langid\n",
    "import emoji\n",
    "import nltk\n",
    "\n",
    "import spacy\n",
    "nltk.download('punkt')\n",
    "\n",
    "warnings.filterwarnings('ignore')\n",
    "pd.pandas.set_option('display.max_columns', None)"
   ]
  },
  {
   "cell_type": "markdown",
   "id": "bbe405cb-ff88-45c8-8358-b005c972133f",
   "metadata": {},
   "source": [
    "# Objective"
   ]
  },
  {
   "cell_type": "markdown",
   "id": "c8639ee4-957b-4e9e-a849-abc6b1ce4271",
   "metadata": {},
   "source": [
    "### 1) Top 10 Videos Based on View Count\n",
    "### 2) Analyze the Trend in Video Views Over the Years\n",
    "### 3) Explore the Correlation Between Likes, Comments, and Views\n",
    "### 4) Investigate the Impact of Video Duration on View Count\n",
    "### 5) Examine Mr Beast's Video Upload Frequency Over 12 Years\n",
    "### 6) Identify Frequently Used Words in Mr Beast's Video Titles and Explore Trends\n",
    "### 7) Assess the Influence of Comments on View Count\n",
    "### 8) Develop a Machine Learning Model to Predict Video View Count"
   ]
  },
  {
   "cell_type": "markdown",
   "id": "df6977eb-9db3-4986-abc2-24b6021727c8",
   "metadata": {},
   "source": [
    "# 1) Load Both Raw data and comment data "
   ]
  },
  {
   "cell_type": "code",
   "execution_count": 2,
   "id": "1af05694-48d3-4d6e-85c7-b285bd87f139",
   "metadata": {},
   "outputs": [
    {
     "data": {
      "text/html": [
       "<div>\n",
       "<style scoped>\n",
       "    .dataframe tbody tr th:only-of-type {\n",
       "        vertical-align: middle;\n",
       "    }\n",
       "\n",
       "    .dataframe tbody tr th {\n",
       "        vertical-align: top;\n",
       "    }\n",
       "\n",
       "    .dataframe thead th {\n",
       "        text-align: right;\n",
       "    }\n",
       "</style>\n",
       "<table border=\"1\" class=\"dataframe\">\n",
       "  <thead>\n",
       "    <tr style=\"text-align: right;\">\n",
       "      <th></th>\n",
       "      <th>video_id</th>\n",
       "      <th>channelTitle</th>\n",
       "      <th>title</th>\n",
       "      <th>description</th>\n",
       "      <th>publishedAt</th>\n",
       "      <th>tags</th>\n",
       "      <th>viewCount</th>\n",
       "      <th>likeCount</th>\n",
       "      <th>commentCount</th>\n",
       "      <th>duration</th>\n",
       "    </tr>\n",
       "  </thead>\n",
       "  <tbody>\n",
       "    <tr>\n",
       "      <th>0</th>\n",
       "      <td>KOEfDvr4DcQ</td>\n",
       "      <td>MrBeast</td>\n",
       "      <td>Face Your Biggest Fear To Win $800,000</td>\n",
       "      <td>I can’t believe how far he got\\nFace your fear...</td>\n",
       "      <td>2024-02-10T17:00:00Z</td>\n",
       "      <td>NaN</td>\n",
       "      <td>101868832</td>\n",
       "      <td>4025540.0</td>\n",
       "      <td>151759.0</td>\n",
       "      <td>PT22M3S</td>\n",
       "    </tr>\n",
       "    <tr>\n",
       "      <th>1</th>\n",
       "      <td>krsBRQbOPQ4</td>\n",
       "      <td>MrBeast</td>\n",
       "      <td>$1 vs $250,000,000 Private Island!</td>\n",
       "      <td>Watch until the end to see how crazy the last ...</td>\n",
       "      <td>2024-01-27T17:00:00Z</td>\n",
       "      <td>NaN</td>\n",
       "      <td>132353095</td>\n",
       "      <td>4380220.0</td>\n",
       "      <td>97258.0</td>\n",
       "      <td>PT16M59S</td>\n",
       "    </tr>\n",
       "    <tr>\n",
       "      <th>2</th>\n",
       "      <td>7ESeQBeikKs</td>\n",
       "      <td>MrBeast</td>\n",
       "      <td>Protect $500,000 Keep It!</td>\n",
       "      <td>He spent so much money lol\\nGrow your money wi...</td>\n",
       "      <td>2024-01-13T17:00:00Z</td>\n",
       "      <td>NaN</td>\n",
       "      <td>110379739</td>\n",
       "      <td>4075544.0</td>\n",
       "      <td>75623.0</td>\n",
       "      <td>PT15M34S</td>\n",
       "    </tr>\n",
       "    <tr>\n",
       "      <th>3</th>\n",
       "      <td>K_CbgLpvH9E</td>\n",
       "      <td>MrBeast</td>\n",
       "      <td>I Spent 7 Days In Solitary Confinement</td>\n",
       "      <td>I started going insane at the end of this chal...</td>\n",
       "      <td>2023-12-30T17:00:03Z</td>\n",
       "      <td>NaN</td>\n",
       "      <td>125032838</td>\n",
       "      <td>4230264.0</td>\n",
       "      <td>80321.0</td>\n",
       "      <td>PT20M16S</td>\n",
       "    </tr>\n",
       "    <tr>\n",
       "      <th>4</th>\n",
       "      <td>lOKASgtr6kU</td>\n",
       "      <td>MrBeast</td>\n",
       "      <td>I Rescued 100 Abandoned Dogs!</td>\n",
       "      <td>I’m so happy all of these dogs will be going t...</td>\n",
       "      <td>2023-12-23T17:00:00Z</td>\n",
       "      <td>NaN</td>\n",
       "      <td>124742129</td>\n",
       "      <td>4924317.0</td>\n",
       "      <td>94035.0</td>\n",
       "      <td>PT15M3S</td>\n",
       "    </tr>\n",
       "  </tbody>\n",
       "</table>\n",
       "</div>"
      ],
      "text/plain": [
       "      video_id channelTitle                                   title  \\\n",
       "0  KOEfDvr4DcQ      MrBeast  Face Your Biggest Fear To Win $800,000   \n",
       "1  krsBRQbOPQ4      MrBeast      $1 vs $250,000,000 Private Island!   \n",
       "2  7ESeQBeikKs      MrBeast               Protect $500,000 Keep It!   \n",
       "3  K_CbgLpvH9E      MrBeast  I Spent 7 Days In Solitary Confinement   \n",
       "4  lOKASgtr6kU      MrBeast           I Rescued 100 Abandoned Dogs!   \n",
       "\n",
       "                                         description           publishedAt  \\\n",
       "0  I can’t believe how far he got\\nFace your fear...  2024-02-10T17:00:00Z   \n",
       "1  Watch until the end to see how crazy the last ...  2024-01-27T17:00:00Z   \n",
       "2  He spent so much money lol\\nGrow your money wi...  2024-01-13T17:00:00Z   \n",
       "3  I started going insane at the end of this chal...  2023-12-30T17:00:03Z   \n",
       "4  I’m so happy all of these dogs will be going t...  2023-12-23T17:00:00Z   \n",
       "\n",
       "  tags  viewCount  likeCount  commentCount  duration  \n",
       "0  NaN  101868832  4025540.0      151759.0   PT22M3S  \n",
       "1  NaN  132353095  4380220.0       97258.0  PT16M59S  \n",
       "2  NaN  110379739  4075544.0       75623.0  PT15M34S  \n",
       "3  NaN  125032838  4230264.0       80321.0  PT20M16S  \n",
       "4  NaN  124742129  4924317.0       94035.0   PT15M3S  "
      ]
     },
     "execution_count": 2,
     "metadata": {},
     "output_type": "execute_result"
    }
   ],
   "source": [
    "df = pd.read_csv('Dataset/raw_data.csv')\n",
    "df.head()"
   ]
  },
  {
   "cell_type": "code",
   "execution_count": 3,
   "id": "fb35124e-ba36-4f66-a84a-ddd7c2cc5e74",
   "metadata": {},
   "outputs": [
    {
     "data": {
      "text/plain": [
       "(776, 10)"
      ]
     },
     "execution_count": 3,
     "metadata": {},
     "output_type": "execute_result"
    }
   ],
   "source": [
    "df.shape"
   ]
  },
  {
   "cell_type": "code",
   "execution_count": 4,
   "id": "49a13d61-4355-4a5d-aba1-aad383328c35",
   "metadata": {},
   "outputs": [
    {
     "data": {
      "text/html": [
       "<div>\n",
       "<style scoped>\n",
       "    .dataframe tbody tr th:only-of-type {\n",
       "        vertical-align: middle;\n",
       "    }\n",
       "\n",
       "    .dataframe tbody tr th {\n",
       "        vertical-align: top;\n",
       "    }\n",
       "\n",
       "    .dataframe thead th {\n",
       "        text-align: right;\n",
       "    }\n",
       "</style>\n",
       "<table border=\"1\" class=\"dataframe\">\n",
       "  <thead>\n",
       "    <tr style=\"text-align: right;\">\n",
       "      <th></th>\n",
       "      <th>video_id</th>\n",
       "      <th>comments</th>\n",
       "    </tr>\n",
       "  </thead>\n",
       "  <tbody>\n",
       "    <tr>\n",
       "      <th>0</th>\n",
       "      <td>KOEfDvr4DcQ</td>\n",
       "      <td>['The new Feastables bars will take some time ...</td>\n",
       "    </tr>\n",
       "    <tr>\n",
       "      <th>1</th>\n",
       "      <td>krsBRQbOPQ4</td>\n",
       "      <td>['I hope you all enjoy how much we’ve been lev...</td>\n",
       "    </tr>\n",
       "    <tr>\n",
       "      <th>2</th>\n",
       "      <td>7ESeQBeikKs</td>\n",
       "      <td>['The new Feastables branding and chocolate fo...</td>\n",
       "    </tr>\n",
       "    <tr>\n",
       "      <th>3</th>\n",
       "      <td>K_CbgLpvH9E</td>\n",
       "      <td>['watch until the end for good luck', 'No cred...</td>\n",
       "    </tr>\n",
       "    <tr>\n",
       "      <th>4</th>\n",
       "      <td>lOKASgtr6kU</td>\n",
       "      <td>['Every family who adopted a dog was fully vet...</td>\n",
       "    </tr>\n",
       "  </tbody>\n",
       "</table>\n",
       "</div>"
      ],
      "text/plain": [
       "      video_id                                           comments\n",
       "0  KOEfDvr4DcQ  ['The new Feastables bars will take some time ...\n",
       "1  krsBRQbOPQ4  ['I hope you all enjoy how much we’ve been lev...\n",
       "2  7ESeQBeikKs  ['The new Feastables branding and chocolate fo...\n",
       "3  K_CbgLpvH9E  ['watch until the end for good luck', 'No cred...\n",
       "4  lOKASgtr6kU  ['Every family who adopted a dog was fully vet..."
      ]
     },
     "execution_count": 4,
     "metadata": {},
     "output_type": "execute_result"
    }
   ],
   "source": [
    "df_comment = pd.read_csv('Dataset/raw_youtube_comments.csv')\n",
    "df_comment = df_comment.drop('Unnamed: 0', axis =1)\n",
    "df_comment.head()"
   ]
  },
  {
   "cell_type": "code",
   "execution_count": 5,
   "id": "283c4dd4-967d-4f07-aa4c-a4c4b65ef9f3",
   "metadata": {},
   "outputs": [
    {
     "data": {
      "text/plain": [
       "(774, 2)"
      ]
     },
     "execution_count": 5,
     "metadata": {},
     "output_type": "execute_result"
    }
   ],
   "source": [
    "df_comment.shape"
   ]
  },
  {
   "cell_type": "markdown",
   "id": "6f427506-f329-4ae1-8971-d5b3fd30b9ce",
   "metadata": {},
   "source": [
    "## The rows in the raw data and comment data are not consistently matched, requiring us to analyze specific instances within the comment dataset where comments are absent or missing"
   ]
  },
  {
   "cell_type": "code",
   "execution_count": 6,
   "id": "4c447f06-c672-4106-a706-158de8b51e78",
   "metadata": {},
   "outputs": [
    {
     "data": {
      "text/html": [
       "<div>\n",
       "<style scoped>\n",
       "    .dataframe tbody tr th:only-of-type {\n",
       "        vertical-align: middle;\n",
       "    }\n",
       "\n",
       "    .dataframe tbody tr th {\n",
       "        vertical-align: top;\n",
       "    }\n",
       "\n",
       "    .dataframe thead th {\n",
       "        text-align: right;\n",
       "    }\n",
       "</style>\n",
       "<table border=\"1\" class=\"dataframe\">\n",
       "  <thead>\n",
       "    <tr style=\"text-align: right;\">\n",
       "      <th></th>\n",
       "      <th>video_id</th>\n",
       "      <th>channelTitle</th>\n",
       "      <th>title</th>\n",
       "      <th>description</th>\n",
       "      <th>publishedAt</th>\n",
       "      <th>tags</th>\n",
       "      <th>viewCount</th>\n",
       "      <th>likeCount</th>\n",
       "      <th>commentCount</th>\n",
       "      <th>duration</th>\n",
       "      <th>comments</th>\n",
       "      <th>_merge</th>\n",
       "    </tr>\n",
       "  </thead>\n",
       "  <tbody>\n",
       "    <tr>\n",
       "      <th>311</th>\n",
       "      <td>AS5CxLCWq-Q</td>\n",
       "      <td>MrBeast</td>\n",
       "      <td>Watching Dance Till You're Dead For 10 Hours</td>\n",
       "      <td>I WATCHED THE WHOLE VIDEO\\nEnter $500 Giveaway...</td>\n",
       "      <td>2017-03-21T22:40:12Z</td>\n",
       "      <td>['dance', 'till', 'youre', 'dead', 'remix', 'm...</td>\n",
       "      <td>53017024</td>\n",
       "      <td>2587660.0</td>\n",
       "      <td>NaN</td>\n",
       "      <td>PT10H1S</td>\n",
       "      <td>NaN</td>\n",
       "      <td>left_only</td>\n",
       "    </tr>\n",
       "    <tr>\n",
       "      <th>502</th>\n",
       "      <td>-V3-fhJQZkk</td>\n",
       "      <td>MrBeast</td>\n",
       "      <td>Youtube Collabs? Collabbing with Mr.Beast?</td>\n",
       "      <td>This is something I get asked every single day...</td>\n",
       "      <td>2015-08-01T10:00:01Z</td>\n",
       "      <td>['Mr.Beast', 'mr', 'beast', 'collabbing', 'on'...</td>\n",
       "      <td>86035</td>\n",
       "      <td>1869.0</td>\n",
       "      <td>215.0</td>\n",
       "      <td>PT3M33S</td>\n",
       "      <td>NaN</td>\n",
       "      <td>left_only</td>\n",
       "    </tr>\n",
       "  </tbody>\n",
       "</table>\n",
       "</div>"
      ],
      "text/plain": [
       "        video_id channelTitle                                         title  \\\n",
       "311  AS5CxLCWq-Q      MrBeast  Watching Dance Till You're Dead For 10 Hours   \n",
       "502  -V3-fhJQZkk      MrBeast    Youtube Collabs? Collabbing with Mr.Beast?   \n",
       "\n",
       "                                           description           publishedAt  \\\n",
       "311  I WATCHED THE WHOLE VIDEO\\nEnter $500 Giveaway...  2017-03-21T22:40:12Z   \n",
       "502  This is something I get asked every single day...  2015-08-01T10:00:01Z   \n",
       "\n",
       "                                                  tags  viewCount  likeCount  \\\n",
       "311  ['dance', 'till', 'youre', 'dead', 'remix', 'm...   53017024  2587660.0   \n",
       "502  ['Mr.Beast', 'mr', 'beast', 'collabbing', 'on'...      86035     1869.0   \n",
       "\n",
       "     commentCount duration comments     _merge  \n",
       "311           NaN  PT10H1S      NaN  left_only  \n",
       "502         215.0  PT3M33S      NaN  left_only  "
      ]
     },
     "execution_count": 6,
     "metadata": {},
     "output_type": "execute_result"
    }
   ],
   "source": [
    "df_merged = pd.merge(df, df_comment, on='video_id', how='outer', indicator=True)\n",
    "\n",
    "# Apply left join on the outer dataset \n",
    "df_merged[df_merged['_merge'] == 'left_only']"
   ]
  },
  {
   "cell_type": "markdown",
   "id": "27bb9695-4617-4b3d-9bb9-562f69fabc3f",
   "metadata": {},
   "source": [
    "## As evident from the absence of comments on these two videos, a more efficient approach would be to exclude them"
   ]
  },
  {
   "cell_type": "code",
   "execution_count": 7,
   "id": "467436c4-935b-4e95-a137-d5091bf2b1c4",
   "metadata": {},
   "outputs": [],
   "source": [
    "df_merged = df_merged[df_merged['_merge'] == 'both']"
   ]
  },
  {
   "cell_type": "code",
   "execution_count": 8,
   "id": "f986f23e-b768-494e-b69e-9113ed383fb2",
   "metadata": {},
   "outputs": [
    {
     "data": {
      "text/html": [
       "<div>\n",
       "<style scoped>\n",
       "    .dataframe tbody tr th:only-of-type {\n",
       "        vertical-align: middle;\n",
       "    }\n",
       "\n",
       "    .dataframe tbody tr th {\n",
       "        vertical-align: top;\n",
       "    }\n",
       "\n",
       "    .dataframe thead th {\n",
       "        text-align: right;\n",
       "    }\n",
       "</style>\n",
       "<table border=\"1\" class=\"dataframe\">\n",
       "  <thead>\n",
       "    <tr style=\"text-align: right;\">\n",
       "      <th></th>\n",
       "      <th>video_id</th>\n",
       "      <th>channelTitle</th>\n",
       "      <th>title</th>\n",
       "      <th>description</th>\n",
       "      <th>publishedAt</th>\n",
       "      <th>tags</th>\n",
       "      <th>viewCount</th>\n",
       "      <th>likeCount</th>\n",
       "      <th>commentCount</th>\n",
       "      <th>duration</th>\n",
       "      <th>comments</th>\n",
       "      <th>_merge</th>\n",
       "    </tr>\n",
       "  </thead>\n",
       "  <tbody>\n",
       "    <tr>\n",
       "      <th>0</th>\n",
       "      <td>KOEfDvr4DcQ</td>\n",
       "      <td>MrBeast</td>\n",
       "      <td>Face Your Biggest Fear To Win $800,000</td>\n",
       "      <td>I can’t believe how far he got\\nFace your fear...</td>\n",
       "      <td>2024-02-10T17:00:00Z</td>\n",
       "      <td>NaN</td>\n",
       "      <td>101868832</td>\n",
       "      <td>4025540.0</td>\n",
       "      <td>151759.0</td>\n",
       "      <td>PT22M3S</td>\n",
       "      <td>['The new Feastables bars will take some time ...</td>\n",
       "      <td>both</td>\n",
       "    </tr>\n",
       "  </tbody>\n",
       "</table>\n",
       "</div>"
      ],
      "text/plain": [
       "      video_id channelTitle                                   title  \\\n",
       "0  KOEfDvr4DcQ      MrBeast  Face Your Biggest Fear To Win $800,000   \n",
       "\n",
       "                                         description           publishedAt  \\\n",
       "0  I can’t believe how far he got\\nFace your fear...  2024-02-10T17:00:00Z   \n",
       "\n",
       "  tags  viewCount  likeCount  commentCount duration  \\\n",
       "0  NaN  101868832  4025540.0      151759.0  PT22M3S   \n",
       "\n",
       "                                            comments _merge  \n",
       "0  ['The new Feastables bars will take some time ...   both  "
      ]
     },
     "execution_count": 8,
     "metadata": {},
     "output_type": "execute_result"
    }
   ],
   "source": [
    "df_merged.head(1)"
   ]
  },
  {
   "cell_type": "code",
   "execution_count": 9,
   "id": "ff14c2bd-c364-467c-b7e9-ed668c66aee8",
   "metadata": {},
   "outputs": [
    {
     "data": {
      "text/plain": [
       "(774, 12)"
      ]
     },
     "execution_count": 9,
     "metadata": {},
     "output_type": "execute_result"
    }
   ],
   "source": [
    "df_merged.shape"
   ]
  },
  {
   "cell_type": "markdown",
   "id": "4dce11b8-7ef3-4a29-b3c4-0a5a1c007d44",
   "metadata": {},
   "source": [
    "# 2) Missing Values"
   ]
  },
  {
   "cell_type": "code",
   "execution_count": 10,
   "id": "18737dca-5ed0-4894-a118-fc5432ebbd3a",
   "metadata": {},
   "outputs": [
    {
     "name": "stdout",
     "output_type": "stream",
     "text": [
      "<class 'pandas.core.frame.DataFrame'>\n",
      "Int64Index: 774 entries, 0 to 775\n",
      "Data columns (total 12 columns):\n",
      " #   Column        Non-Null Count  Dtype   \n",
      "---  ------        --------------  -----   \n",
      " 0   video_id      774 non-null    object  \n",
      " 1   channelTitle  774 non-null    object  \n",
      " 2   title         774 non-null    object  \n",
      " 3   description   746 non-null    object  \n",
      " 4   publishedAt   774 non-null    object  \n",
      " 5   tags          539 non-null    object  \n",
      " 6   viewCount     774 non-null    int64   \n",
      " 7   likeCount     767 non-null    float64 \n",
      " 8   commentCount  774 non-null    float64 \n",
      " 9   duration      774 non-null    object  \n",
      " 10  comments      774 non-null    object  \n",
      " 11  _merge        774 non-null    category\n",
      "dtypes: category(1), float64(2), int64(1), object(8)\n",
      "memory usage: 73.4+ KB\n"
     ]
    }
   ],
   "source": [
    "df_merged.info()"
   ]
  },
  {
   "cell_type": "markdown",
   "id": "cbb0919f-06ff-45a4-b3e3-45f0d7667bce",
   "metadata": {},
   "source": [
    "## Upon examining the df.info() output, it is evident that we should adjust the data type of specific columns, such as comment count and like count, to integer (INT). Additionally, there are null values in some columns that require cleaning such as tags and likeCount "
   ]
  },
  {
   "cell_type": "code",
   "execution_count": 11,
   "id": "82e2dac5-488e-49af-a7eb-311456385d0a",
   "metadata": {},
   "outputs": [
    {
     "data": {
      "text/plain": [
       "video_id          0\n",
       "channelTitle      0\n",
       "title             0\n",
       "description      28\n",
       "publishedAt       0\n",
       "tags            235\n",
       "viewCount         0\n",
       "likeCount         7\n",
       "commentCount      0\n",
       "duration          0\n",
       "comments          0\n",
       "_merge            0\n",
       "dtype: int64"
      ]
     },
     "execution_count": 11,
     "metadata": {},
     "output_type": "execute_result"
    }
   ],
   "source": [
    "df_merged.isnull().sum()"
   ]
  },
  {
   "cell_type": "code",
   "execution_count": 12,
   "id": "b0286266-90e3-4c5d-a6f4-63e68a2be61b",
   "metadata": {},
   "outputs": [
    {
     "data": {
      "text/plain": [
       "video_id         0.000000\n",
       "channelTitle     0.000000\n",
       "title            0.000000\n",
       "description      3.617571\n",
       "publishedAt      0.000000\n",
       "tags            30.361757\n",
       "viewCount        0.000000\n",
       "likeCount        0.904393\n",
       "commentCount     0.000000\n",
       "duration         0.000000\n",
       "comments         0.000000\n",
       "_merge           0.000000\n",
       "dtype: float64"
      ]
     },
     "execution_count": 12,
     "metadata": {},
     "output_type": "execute_result"
    }
   ],
   "source": [
    "df_merged.isnull().sum()/ len(df_merged) * 100"
   ]
  },
  {
   "cell_type": "markdown",
   "id": "753bcdf9-838e-45e3-8b43-4ef47ff4b40a",
   "metadata": {},
   "source": [
    "## Checking the absence of values in the like count. My hypothesis is that these videos lack likes. To validate this assumption, I have chosen to inspect the respective YouTube videos of these seven entries. Confirming my hypothesis, these videos indeed have zero likes. "
   ]
  },
  {
   "cell_type": "code",
   "execution_count": 13,
   "id": "8ecf5a94-0a01-4f82-9c83-a8104af02426",
   "metadata": {},
   "outputs": [
    {
     "data": {
      "text/html": [
       "<div>\n",
       "<style scoped>\n",
       "    .dataframe tbody tr th:only-of-type {\n",
       "        vertical-align: middle;\n",
       "    }\n",
       "\n",
       "    .dataframe tbody tr th {\n",
       "        vertical-align: top;\n",
       "    }\n",
       "\n",
       "    .dataframe thead th {\n",
       "        text-align: right;\n",
       "    }\n",
       "</style>\n",
       "<table border=\"1\" class=\"dataframe\">\n",
       "  <thead>\n",
       "    <tr style=\"text-align: right;\">\n",
       "      <th></th>\n",
       "      <th>video_id</th>\n",
       "      <th>channelTitle</th>\n",
       "      <th>title</th>\n",
       "      <th>description</th>\n",
       "      <th>publishedAt</th>\n",
       "      <th>tags</th>\n",
       "      <th>viewCount</th>\n",
       "      <th>likeCount</th>\n",
       "      <th>commentCount</th>\n",
       "      <th>duration</th>\n",
       "      <th>comments</th>\n",
       "      <th>_merge</th>\n",
       "    </tr>\n",
       "  </thead>\n",
       "  <tbody>\n",
       "    <tr>\n",
       "      <th>529</th>\n",
       "      <td>SgMydsOucFg</td>\n",
       "      <td>MrBeast</td>\n",
       "      <td>INSANE TRIPLE LEGENDARY SUPPLY DROP! BEST OPEN...</td>\n",
       "      <td>This is the best triple legendary supply drop ...</td>\n",
       "      <td>2015-07-11T20:08:50Z</td>\n",
       "      <td>['mrbeast6000', 'advanced warfare', 'supply dr...</td>\n",
       "      <td>47269</td>\n",
       "      <td>NaN</td>\n",
       "      <td>289.0</td>\n",
       "      <td>PT3M29S</td>\n",
       "      <td>['244번째 댓글입니다 지미  댓글 적으면서 몇번 꿈나라에 갔었다  Challen...</td>\n",
       "      <td>both</td>\n",
       "    </tr>\n",
       "    <tr>\n",
       "      <th>758</th>\n",
       "      <td>QicO1Gd0kvU</td>\n",
       "      <td>MrBeast</td>\n",
       "      <td>Pokemon online battle #4 [uu] Same old team</td>\n",
       "      <td>How's it going, I know you are proboly bored o...</td>\n",
       "      <td>2013-03-28T17:22:43Z</td>\n",
       "      <td>['pokemon', 'online', 'battle', 'number', 'fou...</td>\n",
       "      <td>179216</td>\n",
       "      <td>NaN</td>\n",
       "      <td>1027.0</td>\n",
       "      <td>PT4M39S</td>\n",
       "      <td>['S', '❤❤', 'Thanks ❤🎉', 'Pokémen is the plura...</td>\n",
       "      <td>both</td>\n",
       "    </tr>\n",
       "    <tr>\n",
       "      <th>759</th>\n",
       "      <td>yFfcsmK2TOA</td>\n",
       "      <td>MrBeast</td>\n",
       "      <td>Online pokemon battle #3 [uu] Ice punch</td>\n",
       "      <td>This is my third battle with this team that i ...</td>\n",
       "      <td>2013-03-27T19:57:08Z</td>\n",
       "      <td>['pokemon', 'online', 'battle', 'ice', 'punch']</td>\n",
       "      <td>153624</td>\n",
       "      <td>NaN</td>\n",
       "      <td>1360.0</td>\n",
       "      <td>PT3M25S</td>\n",
       "      <td>['A', 'E', 'Thanks 🎉❤', 'Please mr beast', 'Ca...</td>\n",
       "      <td>both</td>\n",
       "    </tr>\n",
       "    <tr>\n",
       "      <th>760</th>\n",
       "      <td>Jl0-6tbNGBo</td>\n",
       "      <td>MrBeast</td>\n",
       "      <td>Pokemon online battle #2 [uu] Herracross w/ Da...</td>\n",
       "      <td>Once i realized he didnt have any one who coul...</td>\n",
       "      <td>2013-03-26T16:58:32Z</td>\n",
       "      <td>['pokemon', 'online', 'battle', 'herracross', ...</td>\n",
       "      <td>224934</td>\n",
       "      <td>NaN</td>\n",
       "      <td>1230.0</td>\n",
       "      <td>PT2M49S</td>\n",
       "      <td>['Mr beaast', 'B', 'Waoôoh❤🎉', 'My favorite us...</td>\n",
       "      <td>both</td>\n",
       "    </tr>\n",
       "    <tr>\n",
       "      <th>761</th>\n",
       "      <td>IAbX0FwX-GY</td>\n",
       "      <td>MrBeast</td>\n",
       "      <td>Why I Haven't Been Uploading</td>\n",
       "      <td>The truth behind it</td>\n",
       "      <td>2013-03-25T20:10:38Z</td>\n",
       "      <td>['Pokemon', 'online', 'battle', 'first']</td>\n",
       "      <td>665791</td>\n",
       "      <td>NaN</td>\n",
       "      <td>1723.0</td>\n",
       "      <td>PT6M3S</td>\n",
       "      <td>['Pokémon showdown', 'Hola', 'This comes to my...</td>\n",
       "      <td>both</td>\n",
       "    </tr>\n",
       "    <tr>\n",
       "      <th>767</th>\n",
       "      <td>gchqnwXlxJw</td>\n",
       "      <td>MrBeast</td>\n",
       "      <td>Drinks in minecraft (mod)</td>\n",
       "      <td>This mod adds coke, sprite, and sproke. \\n\\nmo...</td>\n",
       "      <td>2013-01-26T16:26:34Z</td>\n",
       "      <td>['epic', 'sniper', 'clip', 'must', 'see', 'min...</td>\n",
       "      <td>441705</td>\n",
       "      <td>NaN</td>\n",
       "      <td>1664.0</td>\n",
       "      <td>PT43S</td>\n",
       "      <td>['Mr beast 🎉', 'Hello', 'Trop cool ❤', 'Wow', ...</td>\n",
       "      <td>both</td>\n",
       "    </tr>\n",
       "    <tr>\n",
       "      <th>774</th>\n",
       "      <td>jP82d277Cc8</td>\n",
       "      <td>MrBeast</td>\n",
       "      <td>Harry Potter Mod In Minecraft! EPIC MUST SEE M...</td>\n",
       "      <td>One of the coolest mods i have ever seen\\n\\nMo...</td>\n",
       "      <td>2012-03-09T23:29:03Z</td>\n",
       "      <td>['Harry Potter minecraft', 'minecraft', 'minec...</td>\n",
       "      <td>4434195</td>\n",
       "      <td>NaN</td>\n",
       "      <td>8412.0</td>\n",
       "      <td>PT3M59S</td>\n",
       "      <td>['I remember filming this with my horrible lap...</td>\n",
       "      <td>both</td>\n",
       "    </tr>\n",
       "  </tbody>\n",
       "</table>\n",
       "</div>"
      ],
      "text/plain": [
       "        video_id channelTitle  \\\n",
       "529  SgMydsOucFg      MrBeast   \n",
       "758  QicO1Gd0kvU      MrBeast   \n",
       "759  yFfcsmK2TOA      MrBeast   \n",
       "760  Jl0-6tbNGBo      MrBeast   \n",
       "761  IAbX0FwX-GY      MrBeast   \n",
       "767  gchqnwXlxJw      MrBeast   \n",
       "774  jP82d277Cc8      MrBeast   \n",
       "\n",
       "                                                 title  \\\n",
       "529  INSANE TRIPLE LEGENDARY SUPPLY DROP! BEST OPEN...   \n",
       "758        Pokemon online battle #4 [uu] Same old team   \n",
       "759            Online pokemon battle #3 [uu] Ice punch   \n",
       "760  Pokemon online battle #2 [uu] Herracross w/ Da...   \n",
       "761                       Why I Haven't Been Uploading   \n",
       "767                          Drinks in minecraft (mod)   \n",
       "774  Harry Potter Mod In Minecraft! EPIC MUST SEE M...   \n",
       "\n",
       "                                           description           publishedAt  \\\n",
       "529  This is the best triple legendary supply drop ...  2015-07-11T20:08:50Z   \n",
       "758  How's it going, I know you are proboly bored o...  2013-03-28T17:22:43Z   \n",
       "759  This is my third battle with this team that i ...  2013-03-27T19:57:08Z   \n",
       "760  Once i realized he didnt have any one who coul...  2013-03-26T16:58:32Z   \n",
       "761                                The truth behind it  2013-03-25T20:10:38Z   \n",
       "767  This mod adds coke, sprite, and sproke. \\n\\nmo...  2013-01-26T16:26:34Z   \n",
       "774  One of the coolest mods i have ever seen\\n\\nMo...  2012-03-09T23:29:03Z   \n",
       "\n",
       "                                                  tags  viewCount  likeCount  \\\n",
       "529  ['mrbeast6000', 'advanced warfare', 'supply dr...      47269        NaN   \n",
       "758  ['pokemon', 'online', 'battle', 'number', 'fou...     179216        NaN   \n",
       "759    ['pokemon', 'online', 'battle', 'ice', 'punch']     153624        NaN   \n",
       "760  ['pokemon', 'online', 'battle', 'herracross', ...     224934        NaN   \n",
       "761           ['Pokemon', 'online', 'battle', 'first']     665791        NaN   \n",
       "767  ['epic', 'sniper', 'clip', 'must', 'see', 'min...     441705        NaN   \n",
       "774  ['Harry Potter minecraft', 'minecraft', 'minec...    4434195        NaN   \n",
       "\n",
       "     commentCount duration                                           comments  \\\n",
       "529         289.0  PT3M29S  ['244번째 댓글입니다 지미  댓글 적으면서 몇번 꿈나라에 갔었다  Challen...   \n",
       "758        1027.0  PT4M39S  ['S', '❤❤', 'Thanks ❤🎉', 'Pokémen is the plura...   \n",
       "759        1360.0  PT3M25S  ['A', 'E', 'Thanks 🎉❤', 'Please mr beast', 'Ca...   \n",
       "760        1230.0  PT2M49S  ['Mr beaast', 'B', 'Waoôoh❤🎉', 'My favorite us...   \n",
       "761        1723.0   PT6M3S  ['Pokémon showdown', 'Hola', 'This comes to my...   \n",
       "767        1664.0    PT43S  ['Mr beast 🎉', 'Hello', 'Trop cool ❤', 'Wow', ...   \n",
       "774        8412.0  PT3M59S  ['I remember filming this with my horrible lap...   \n",
       "\n",
       "    _merge  \n",
       "529   both  \n",
       "758   both  \n",
       "759   both  \n",
       "760   both  \n",
       "761   both  \n",
       "767   both  \n",
       "774   both  "
      ]
     },
     "execution_count": 13,
     "metadata": {},
     "output_type": "execute_result"
    }
   ],
   "source": [
    "df_merged[df_merged['likeCount'].isnull()]"
   ]
  },
  {
   "cell_type": "markdown",
   "id": "b790004c-ab33-4dc4-a338-91e6282e06e9",
   "metadata": {},
   "source": [
    "## I conducted some research and discovered that YouTube removed public visibility of tags in 2012. Although video owners can still add tags, these tags are now private and cannot be viewed by others"
   ]
  },
  {
   "cell_type": "code",
   "execution_count": 14,
   "id": "7ea5e8d6-9dd0-4cb2-9651-899be4a88ad7",
   "metadata": {},
   "outputs": [
    {
     "data": {
      "text/html": [
       "<div>\n",
       "<style scoped>\n",
       "    .dataframe tbody tr th:only-of-type {\n",
       "        vertical-align: middle;\n",
       "    }\n",
       "\n",
       "    .dataframe tbody tr th {\n",
       "        vertical-align: top;\n",
       "    }\n",
       "\n",
       "    .dataframe thead th {\n",
       "        text-align: right;\n",
       "    }\n",
       "</style>\n",
       "<table border=\"1\" class=\"dataframe\">\n",
       "  <thead>\n",
       "    <tr style=\"text-align: right;\">\n",
       "      <th></th>\n",
       "      <th>video_id</th>\n",
       "      <th>channelTitle</th>\n",
       "      <th>title</th>\n",
       "      <th>description</th>\n",
       "      <th>publishedAt</th>\n",
       "      <th>tags</th>\n",
       "      <th>viewCount</th>\n",
       "      <th>likeCount</th>\n",
       "      <th>commentCount</th>\n",
       "      <th>duration</th>\n",
       "      <th>comments</th>\n",
       "      <th>_merge</th>\n",
       "    </tr>\n",
       "  </thead>\n",
       "  <tbody>\n",
       "    <tr>\n",
       "      <th>0</th>\n",
       "      <td>KOEfDvr4DcQ</td>\n",
       "      <td>MrBeast</td>\n",
       "      <td>Face Your Biggest Fear To Win $800,000</td>\n",
       "      <td>I can’t believe how far he got\\nFace your fear...</td>\n",
       "      <td>2024-02-10T17:00:00Z</td>\n",
       "      <td>NaN</td>\n",
       "      <td>101868832</td>\n",
       "      <td>4025540.0</td>\n",
       "      <td>151759.0</td>\n",
       "      <td>PT22M3S</td>\n",
       "      <td>['The new Feastables bars will take some time ...</td>\n",
       "      <td>both</td>\n",
       "    </tr>\n",
       "    <tr>\n",
       "      <th>1</th>\n",
       "      <td>krsBRQbOPQ4</td>\n",
       "      <td>MrBeast</td>\n",
       "      <td>$1 vs $250,000,000 Private Island!</td>\n",
       "      <td>Watch until the end to see how crazy the last ...</td>\n",
       "      <td>2024-01-27T17:00:00Z</td>\n",
       "      <td>NaN</td>\n",
       "      <td>132353095</td>\n",
       "      <td>4380220.0</td>\n",
       "      <td>97258.0</td>\n",
       "      <td>PT16M59S</td>\n",
       "      <td>['I hope you all enjoy how much we’ve been lev...</td>\n",
       "      <td>both</td>\n",
       "    </tr>\n",
       "    <tr>\n",
       "      <th>2</th>\n",
       "      <td>7ESeQBeikKs</td>\n",
       "      <td>MrBeast</td>\n",
       "      <td>Protect $500,000 Keep It!</td>\n",
       "      <td>He spent so much money lol\\nGrow your money wi...</td>\n",
       "      <td>2024-01-13T17:00:00Z</td>\n",
       "      <td>NaN</td>\n",
       "      <td>110379739</td>\n",
       "      <td>4075544.0</td>\n",
       "      <td>75623.0</td>\n",
       "      <td>PT15M34S</td>\n",
       "      <td>['The new Feastables branding and chocolate fo...</td>\n",
       "      <td>both</td>\n",
       "    </tr>\n",
       "    <tr>\n",
       "      <th>3</th>\n",
       "      <td>K_CbgLpvH9E</td>\n",
       "      <td>MrBeast</td>\n",
       "      <td>I Spent 7 Days In Solitary Confinement</td>\n",
       "      <td>I started going insane at the end of this chal...</td>\n",
       "      <td>2023-12-30T17:00:03Z</td>\n",
       "      <td>NaN</td>\n",
       "      <td>125032838</td>\n",
       "      <td>4230264.0</td>\n",
       "      <td>80321.0</td>\n",
       "      <td>PT20M16S</td>\n",
       "      <td>['watch until the end for good luck', 'No cred...</td>\n",
       "      <td>both</td>\n",
       "    </tr>\n",
       "    <tr>\n",
       "      <th>4</th>\n",
       "      <td>lOKASgtr6kU</td>\n",
       "      <td>MrBeast</td>\n",
       "      <td>I Rescued 100 Abandoned Dogs!</td>\n",
       "      <td>I’m so happy all of these dogs will be going t...</td>\n",
       "      <td>2023-12-23T17:00:00Z</td>\n",
       "      <td>NaN</td>\n",
       "      <td>124742129</td>\n",
       "      <td>4924317.0</td>\n",
       "      <td>94035.0</td>\n",
       "      <td>PT15M3S</td>\n",
       "      <td>['Every family who adopted a dog was fully vet...</td>\n",
       "      <td>both</td>\n",
       "    </tr>\n",
       "  </tbody>\n",
       "</table>\n",
       "</div>"
      ],
      "text/plain": [
       "      video_id channelTitle                                   title  \\\n",
       "0  KOEfDvr4DcQ      MrBeast  Face Your Biggest Fear To Win $800,000   \n",
       "1  krsBRQbOPQ4      MrBeast      $1 vs $250,000,000 Private Island!   \n",
       "2  7ESeQBeikKs      MrBeast               Protect $500,000 Keep It!   \n",
       "3  K_CbgLpvH9E      MrBeast  I Spent 7 Days In Solitary Confinement   \n",
       "4  lOKASgtr6kU      MrBeast           I Rescued 100 Abandoned Dogs!   \n",
       "\n",
       "                                         description           publishedAt  \\\n",
       "0  I can’t believe how far he got\\nFace your fear...  2024-02-10T17:00:00Z   \n",
       "1  Watch until the end to see how crazy the last ...  2024-01-27T17:00:00Z   \n",
       "2  He spent so much money lol\\nGrow your money wi...  2024-01-13T17:00:00Z   \n",
       "3  I started going insane at the end of this chal...  2023-12-30T17:00:03Z   \n",
       "4  I’m so happy all of these dogs will be going t...  2023-12-23T17:00:00Z   \n",
       "\n",
       "  tags  viewCount  likeCount  commentCount  duration  \\\n",
       "0  NaN  101868832  4025540.0      151759.0   PT22M3S   \n",
       "1  NaN  132353095  4380220.0       97258.0  PT16M59S   \n",
       "2  NaN  110379739  4075544.0       75623.0  PT15M34S   \n",
       "3  NaN  125032838  4230264.0       80321.0  PT20M16S   \n",
       "4  NaN  124742129  4924317.0       94035.0   PT15M3S   \n",
       "\n",
       "                                            comments _merge  \n",
       "0  ['The new Feastables bars will take some time ...   both  \n",
       "1  ['I hope you all enjoy how much we’ve been lev...   both  \n",
       "2  ['The new Feastables branding and chocolate fo...   both  \n",
       "3  ['watch until the end for good luck', 'No cred...   both  \n",
       "4  ['Every family who adopted a dog was fully vet...   both  "
      ]
     },
     "execution_count": 14,
     "metadata": {},
     "output_type": "execute_result"
    }
   ],
   "source": [
    "df_merged[df_merged['tags'].isnull()].head()"
   ]
  },
  {
   "cell_type": "code",
   "execution_count": 15,
   "id": "4f47442f-8aab-4750-b84e-bb9d3f0251c6",
   "metadata": {},
   "outputs": [],
   "source": [
    "# For likecount  missing values, we can fill it with 0 since there are likes and no comment. \n",
    "# However, I will remove the tags column since there are 30% missing value and replace it using AI\n",
    "\n",
    "df_merged['likeCount'] = df_merged['likeCount'].fillna('0')\n",
    "df_merged = df_merged.drop(['tags', 'description', '_merge'] , axis = 1)"
   ]
  },
  {
   "cell_type": "code",
   "execution_count": 16,
   "id": "7c610907-0a43-48ba-939a-69d57f6500a2",
   "metadata": {},
   "outputs": [
    {
     "data": {
      "text/plain": [
       "video_id        0\n",
       "channelTitle    0\n",
       "title           0\n",
       "publishedAt     0\n",
       "viewCount       0\n",
       "likeCount       0\n",
       "commentCount    0\n",
       "duration        0\n",
       "comments        0\n",
       "dtype: int64"
      ]
     },
     "execution_count": 16,
     "metadata": {},
     "output_type": "execute_result"
    }
   ],
   "source": [
    "df_merged.isnull().sum()"
   ]
  },
  {
   "cell_type": "code",
   "execution_count": 17,
   "id": "f1488917-c4d8-46fa-93e5-f41666e37fc3",
   "metadata": {},
   "outputs": [
    {
     "data": {
      "text/plain": [
       "video_id         object\n",
       "channelTitle     object\n",
       "title            object\n",
       "publishedAt      object\n",
       "viewCount         int64\n",
       "likeCount        object\n",
       "commentCount    float64\n",
       "duration         object\n",
       "comments         object\n",
       "dtype: object"
      ]
     },
     "execution_count": 17,
     "metadata": {},
     "output_type": "execute_result"
    }
   ],
   "source": [
    "df_merged.dtypes"
   ]
  },
  {
   "cell_type": "markdown",
   "id": "c264da37-349d-4cba-9f83-c4c679504200",
   "metadata": {},
   "source": [
    "# 3) Change Data Type"
   ]
  },
  {
   "cell_type": "markdown",
   "id": "fc5d2b46-2715-428f-94b2-382425b1d3ec",
   "metadata": {},
   "source": [
    "# Change 'likeCount','commentCount' in the column to numerical"
   ]
  },
  {
   "cell_type": "code",
   "execution_count": 18,
   "id": "c89dbbaf-5b9d-45ab-a7ef-2b748cb5c222",
   "metadata": {},
   "outputs": [],
   "source": [
    "numerical = ['likeCount','commentCount']\n",
    "df_merged[numerical] = df_merged[numerical].astype('int64')"
   ]
  },
  {
   "cell_type": "code",
   "execution_count": 19,
   "id": "49ec6e3b-324f-46e5-a51e-d6c7a47e6350",
   "metadata": {},
   "outputs": [
    {
     "data": {
      "text/plain": [
       "video_id        object\n",
       "channelTitle    object\n",
       "title           object\n",
       "publishedAt     object\n",
       "viewCount        int64\n",
       "likeCount        int64\n",
       "commentCount     int64\n",
       "duration        object\n",
       "comments        object\n",
       "dtype: object"
      ]
     },
     "execution_count": 19,
     "metadata": {},
     "output_type": "execute_result"
    }
   ],
   "source": [
    "df_merged.dtypes"
   ]
  },
  {
   "cell_type": "markdown",
   "id": "a8fb4f5d-fd5f-459e-af7b-50d196e83fd9",
   "metadata": {},
   "source": [
    "# 4) Text data pre-processing"
   ]
  },
  {
   "cell_type": "code",
   "execution_count": 20,
   "id": "c61380fa-7799-4d7e-a818-b74e45075744",
   "metadata": {},
   "outputs": [
    {
     "data": {
      "text/plain": [
       "0    Face Your Biggest Fear To Win $800,000\n",
       "1        $1 vs $250,000,000 Private Island!\n",
       "2                 Protect $500,000 Keep It!\n",
       "Name: title, dtype: object"
      ]
     },
     "execution_count": 20,
     "metadata": {},
     "output_type": "execute_result"
    }
   ],
   "source": [
    "df_merged['title'].head(3)"
   ]
  },
  {
   "cell_type": "markdown",
   "id": "4843ad3b-c4f5-49a3-85db-fff6986c30b3",
   "metadata": {},
   "source": [
    "## Need to tokenize, lower case, replace token start with $ to 'money' and any number to 'number'"
   ]
  },
  {
   "cell_type": "markdown",
   "id": "1d21e59e-66a8-4238-8e3e-196829c7504d",
   "metadata": {},
   "source": [
    "## Replace any token start with $ to 'money' and any number to 'number'"
   ]
  },
  {
   "cell_type": "code",
   "execution_count": 21,
   "id": "1d547780-cb4b-494c-898d-783b106dbf0f",
   "metadata": {},
   "outputs": [
    {
     "data": {
      "text/plain": [
       "0    Face Your Biggest Fear To Win $800,000\n",
       "1        $1 vs $250,000,000 Private Island!\n",
       "2                 Protect $500,000 Keep It!\n",
       "3    I Spent 7 Days In Solitary Confinement\n",
       "Name: title, dtype: object"
      ]
     },
     "execution_count": 21,
     "metadata": {},
     "output_type": "execute_result"
    }
   ],
   "source": [
    "df_merged['title'].head(4) # Before Transformation"
   ]
  },
  {
   "cell_type": "code",
   "execution_count": 22,
   "id": "da28d1d7-63fa-4a14-96a3-6404d4f0e5f0",
   "metadata": {},
   "outputs": [],
   "source": [
    "df_merged['title_clean'] = df_merged['title'].apply(convert_title)\n",
    "df_merged['title_clean'] = df_merged['title_clean'].apply(tokenize)\n",
    "df_merged['title_clean'] = df_merged['title_clean'].apply(preprocess_text)\n",
    "df_merged['title_clean'] = df_merged['title_clean'].apply(lemmatize_tokens)\n",
    "df_merged['title_clean'] = df_merged['title_clean'].apply(lambda x: ' '.join(x))"
   ]
  },
  {
   "cell_type": "code",
   "execution_count": 23,
   "id": "ef48aac9-7990-4e46-8252-d57d794e69e6",
   "metadata": {},
   "outputs": [
    {
     "data": {
      "text/plain": [
       "0                  face big fear win money\n",
       "1            money vs money private island\n",
       "2                       protect money keep\n",
       "3    spend number day solitary confinement\n",
       "Name: title_clean, dtype: object"
      ]
     },
     "execution_count": 23,
     "metadata": {},
     "output_type": "execute_result"
    }
   ],
   "source": [
    "df_merged['title_clean'].head(4) # After Transformation"
   ]
  },
  {
   "cell_type": "markdown",
   "id": "21edcd8e-f68f-4192-8708-30a16fe23ffb",
   "metadata": {},
   "source": [
    "# 5) Feature Engineering"
   ]
  },
  {
   "cell_type": "markdown",
   "id": "cc3805f0-a5cf-4c45-9852-124a7bc8ec09",
   "metadata": {},
   "source": [
    "# Separate the 'publishedAt' column into two distinct columns, one for the date and another for the time"
   ]
  },
  {
   "cell_type": "code",
   "execution_count": 24,
   "id": "77cf36b7-5ac9-4373-8948-c450767361ae",
   "metadata": {},
   "outputs": [],
   "source": [
    "df_merged['date'] = df_merged['publishedAt'].apply(lambda x: x[:10])\n",
    "df_merged['time'] = df_merged['publishedAt'].apply(lambda x: x[11:19])"
   ]
  },
  {
   "cell_type": "code",
   "execution_count": 25,
   "id": "b17f2a62-9a23-4e35-8580-be2f47cb7174",
   "metadata": {},
   "outputs": [],
   "source": [
    "df_merged['day'] = df_merged['publishedAt'].apply(days)\n",
    "df_merged = df_merged.drop(['publishedAt', 'time'], axis = 1)"
   ]
  },
  {
   "cell_type": "code",
   "execution_count": 26,
   "id": "2bbb7416-fbd4-4ad9-ad16-9a47e78192d9",
   "metadata": {},
   "outputs": [],
   "source": [
    "df_merged['duration(s)'] = df_merged['duration'].apply(duration2second)\n",
    "df_merged = df_merged.drop('duration', axis = 1)"
   ]
  },
  {
   "cell_type": "code",
   "execution_count": 27,
   "id": "95db8a31-18ab-427e-beeb-52ee93c8241e",
   "metadata": {},
   "outputs": [
    {
     "data": {
      "text/html": [
       "<div>\n",
       "<style scoped>\n",
       "    .dataframe tbody tr th:only-of-type {\n",
       "        vertical-align: middle;\n",
       "    }\n",
       "\n",
       "    .dataframe tbody tr th {\n",
       "        vertical-align: top;\n",
       "    }\n",
       "\n",
       "    .dataframe thead th {\n",
       "        text-align: right;\n",
       "    }\n",
       "</style>\n",
       "<table border=\"1\" class=\"dataframe\">\n",
       "  <thead>\n",
       "    <tr style=\"text-align: right;\">\n",
       "      <th></th>\n",
       "      <th>video_id</th>\n",
       "      <th>channelTitle</th>\n",
       "      <th>title</th>\n",
       "      <th>viewCount</th>\n",
       "      <th>likeCount</th>\n",
       "      <th>commentCount</th>\n",
       "      <th>comments</th>\n",
       "      <th>title_clean</th>\n",
       "      <th>date</th>\n",
       "      <th>day</th>\n",
       "      <th>duration(s)</th>\n",
       "    </tr>\n",
       "  </thead>\n",
       "  <tbody>\n",
       "    <tr>\n",
       "      <th>0</th>\n",
       "      <td>KOEfDvr4DcQ</td>\n",
       "      <td>MrBeast</td>\n",
       "      <td>Face Your Biggest Fear To Win $800,000</td>\n",
       "      <td>101868832</td>\n",
       "      <td>4025540</td>\n",
       "      <td>151759</td>\n",
       "      <td>['The new Feastables bars will take some time ...</td>\n",
       "      <td>face big fear win money</td>\n",
       "      <td>2024-02-10</td>\n",
       "      <td>Saturday</td>\n",
       "      <td>1323.0</td>\n",
       "    </tr>\n",
       "  </tbody>\n",
       "</table>\n",
       "</div>"
      ],
      "text/plain": [
       "      video_id channelTitle                                   title  \\\n",
       "0  KOEfDvr4DcQ      MrBeast  Face Your Biggest Fear To Win $800,000   \n",
       "\n",
       "   viewCount  likeCount  commentCount  \\\n",
       "0  101868832    4025540        151759   \n",
       "\n",
       "                                            comments              title_clean  \\\n",
       "0  ['The new Feastables bars will take some time ...  face big fear win money   \n",
       "\n",
       "         date       day  duration(s)  \n",
       "0  2024-02-10  Saturday       1323.0  "
      ]
     },
     "execution_count": 27,
     "metadata": {},
     "output_type": "execute_result"
    }
   ],
   "source": [
    "df_merged.head(1)"
   ]
  },
  {
   "cell_type": "code",
   "execution_count": 28,
   "id": "014680e3-6395-4814-9930-2b2dbd358ae5",
   "metadata": {},
   "outputs": [],
   "source": [
    "datetime = ['date']\n",
    "df_merged['date'] = pd.to_datetime(df_merged['date'], errors='coerce')\n",
    "df_merged['duration(s)'] = df_merged['duration(s)'].astype('int64')"
   ]
  },
  {
   "cell_type": "code",
   "execution_count": 29,
   "id": "a1f7b279-9f71-4299-bcb3-260eb54630b7",
   "metadata": {},
   "outputs": [
    {
     "data": {
      "text/plain": [
       "video_id                object\n",
       "channelTitle            object\n",
       "title                   object\n",
       "viewCount                int64\n",
       "likeCount                int64\n",
       "commentCount             int64\n",
       "comments                object\n",
       "title_clean             object\n",
       "date            datetime64[ns]\n",
       "day                     object\n",
       "duration(s)              int64\n",
       "dtype: object"
      ]
     },
     "execution_count": 29,
     "metadata": {},
     "output_type": "execute_result"
    }
   ],
   "source": [
    "df_merged.dtypes"
   ]
  },
  {
   "cell_type": "markdown",
   "id": "228975fe-dd5c-45db-a53b-9573a15c0cc6",
   "metadata": {},
   "source": [
    "## Create Month and Years column"
   ]
  },
  {
   "cell_type": "code",
   "execution_count": 30,
   "id": "ae9b3163-9eec-414f-8b8c-782bb923ab7c",
   "metadata": {},
   "outputs": [],
   "source": [
    "df_merged['year'] = df_merged['date'].dt.year\n",
    "df_merged['month'] = df_merged['date'].dt.month"
   ]
  },
  {
   "cell_type": "markdown",
   "id": "10505b97-2292-4c59-99a3-58811ce8fbe5",
   "metadata": {},
   "source": [
    "## Day Different"
   ]
  },
  {
   "cell_type": "markdown",
   "id": "2ac58127-7b46-460e-927b-9d9444d8557b",
   "metadata": {},
   "source": [
    "The amount of day uploaded is also important. For example an video just uploaded 3 days will have a higher chance of getting lesser views than those in 2 years"
   ]
  },
  {
   "cell_type": "markdown",
   "id": "813057a0-d018-4b73-9461-ec84ee326f86",
   "metadata": {},
   "source": [
    "from datetime import datetime\n",
    "\n",
    "current_date = pd.to_datetime(datetime.today().strftime('%Y-%m-%d'))\n",
    "df_merged['diff_date'] = (current_date - df_merged['date']).dt.days"
   ]
  },
  {
   "cell_type": "code",
   "execution_count": 31,
   "id": "66048e11-1c7f-4de0-8ee3-5658b1e4bb7b",
   "metadata": {},
   "outputs": [
    {
     "data": {
      "text/html": [
       "<div>\n",
       "<style scoped>\n",
       "    .dataframe tbody tr th:only-of-type {\n",
       "        vertical-align: middle;\n",
       "    }\n",
       "\n",
       "    .dataframe tbody tr th {\n",
       "        vertical-align: top;\n",
       "    }\n",
       "\n",
       "    .dataframe thead th {\n",
       "        text-align: right;\n",
       "    }\n",
       "</style>\n",
       "<table border=\"1\" class=\"dataframe\">\n",
       "  <thead>\n",
       "    <tr style=\"text-align: right;\">\n",
       "      <th></th>\n",
       "      <th>video_id</th>\n",
       "      <th>channelTitle</th>\n",
       "      <th>title</th>\n",
       "      <th>viewCount</th>\n",
       "      <th>likeCount</th>\n",
       "      <th>commentCount</th>\n",
       "      <th>comments</th>\n",
       "      <th>title_clean</th>\n",
       "      <th>date</th>\n",
       "      <th>day</th>\n",
       "      <th>duration(s)</th>\n",
       "      <th>year</th>\n",
       "      <th>month</th>\n",
       "    </tr>\n",
       "  </thead>\n",
       "  <tbody>\n",
       "    <tr>\n",
       "      <th>0</th>\n",
       "      <td>KOEfDvr4DcQ</td>\n",
       "      <td>MrBeast</td>\n",
       "      <td>Face Your Biggest Fear To Win $800,000</td>\n",
       "      <td>101868832</td>\n",
       "      <td>4025540</td>\n",
       "      <td>151759</td>\n",
       "      <td>['The new Feastables bars will take some time ...</td>\n",
       "      <td>face big fear win money</td>\n",
       "      <td>2024-02-10</td>\n",
       "      <td>Saturday</td>\n",
       "      <td>1323</td>\n",
       "      <td>2024</td>\n",
       "      <td>2</td>\n",
       "    </tr>\n",
       "  </tbody>\n",
       "</table>\n",
       "</div>"
      ],
      "text/plain": [
       "      video_id channelTitle                                   title  \\\n",
       "0  KOEfDvr4DcQ      MrBeast  Face Your Biggest Fear To Win $800,000   \n",
       "\n",
       "   viewCount  likeCount  commentCount  \\\n",
       "0  101868832    4025540        151759   \n",
       "\n",
       "                                            comments              title_clean  \\\n",
       "0  ['The new Feastables bars will take some time ...  face big fear win money   \n",
       "\n",
       "        date       day  duration(s)  year  month  \n",
       "0 2024-02-10  Saturday         1323  2024      2  "
      ]
     },
     "execution_count": 31,
     "metadata": {},
     "output_type": "execute_result"
    }
   ],
   "source": [
    "df_merged.head(1)"
   ]
  },
  {
   "cell_type": "markdown",
   "id": "0ba9aac4-64ac-4548-b334-94f817a5dc96",
   "metadata": {},
   "source": [
    "# 6) Apply Semantics Analysis for comments"
   ]
  },
  {
   "cell_type": "code",
   "execution_count": 32,
   "id": "af1c91a3-24cc-425f-8e03-182b7b988fda",
   "metadata": {},
   "outputs": [
    {
     "data": {
      "text/plain": [
       "'him just made it to where you wouldn\\'t lose 800k\", \\'Дай ему 3шанс\\', \\'Mack need onemore changees\\', \\'IN frui si tray de in fruy sutayde de eee\\', \\'Fede 🎉 wow tu voz 🎉 👏\\', \\'Mack should at least get a consolation prize. He faced every fear.\\', \\'Please\\', \\'Please\\', \\'Consulta que marca es el microfono que se uso cuando se rompio la galleta... lo quiero..!!! jajajaja\\', \\'shouldve taken the 300k. greed costed him that\\', \\'Espero no se me suicide por tremendo fracaso.\\', \\'انا احب مستر بيست\\', \\'Super con la voz de Fedeeeee❤\\', \\'Give him another chance!\\', \\'Me encanta la vos de fede\\', \\'Somebody give Mack another cookie 🤧\\', \\'Biggest you tuber\\', \\'Nyc\\', \"It\\'s really very terrible 😮\", \\'Carf\\', \\'Bring him back please\\', \\'can howtobasic do this challenge\\', \\'Bros is organising a lil tomodachi game ☠️\\', \\'Give him one m'"
      ]
     },
     "execution_count": 32,
     "metadata": {},
     "output_type": "execute_result"
    }
   ],
   "source": [
    "df_merged['comments'][0][200:1000]"
   ]
  },
  {
   "cell_type": "markdown",
   "id": "c371ffa6-1879-4968-b3de-4621d1bd3209",
   "metadata": {},
   "source": [
    "### The text is filled with unnecessary elements, including non-alphabetic characters, symbols, emojis, punctuation, and stop words."
   ]
  },
  {
   "cell_type": "markdown",
   "id": "ab02bd08-0871-4366-a7af-71b2d3cace1c",
   "metadata": {},
   "source": [
    "## To clean the data:\n",
    "## Removing non-alphabetic words, white spaces, non-English words"
   ]
  },
  {
   "cell_type": "code",
   "execution_count": 33,
   "id": "e2f35ddb-6fb8-4913-bd44-2226e166af3b",
   "metadata": {},
   "outputs": [],
   "source": [
    "df_merged['clean'] = df_merged['comments'].apply(clean_data)\n",
    "df_merged['clean'] = df_merged['clean'].apply(remove_blank)\n",
    "df_merged['clean'] = df_merged['clean'].apply(lambda x: [remove_non_english(sentence) for sentence in x]) # It will take a while"
   ]
  },
  {
   "cell_type": "code",
   "execution_count": 34,
   "id": "a1dcbbed-7959-4c11-b0e0-acd7cca14697",
   "metadata": {},
   "outputs": [],
   "source": [
    "df_merged['clean'] = df_merged['clean'].apply(lambda x: [item for item in x if (isinstance(item, list) and len(item) > 1) or (isinstance(item, str) and item.strip() != '')])"
   ]
  },
  {
   "cell_type": "code",
   "execution_count": 35,
   "id": "5d805bf3-f5f8-4537-b605-8190ef322543",
   "metadata": {},
   "outputs": [
    {
     "name": "stderr",
     "output_type": "stream",
     "text": [
      "[nltk_data] Downloading package vader_lexicon to\n",
      "[nltk_data]     C:\\Users\\User\\AppData\\Roaming\\nltk_data...\n",
      "[nltk_data]   Package vader_lexicon is already up-to-date!\n"
     ]
    }
   ],
   "source": [
    "from nltk.sentiment import SentimentIntensityAnalyzer\n",
    "nltk.download('vader_lexicon')\n",
    "\n",
    "sia = SentimentIntensityAnalyzer()\n",
    "df_merged['senti'] = df_merged['clean'].apply(lambda x: [sia.polarity_scores(sentence) for sentence in x])"
   ]
  },
  {
   "cell_type": "code",
   "execution_count": 36,
   "id": "b6408200-df30-48a7-a909-755ebf09d6e2",
   "metadata": {},
   "outputs": [],
   "source": [
    "# Create a new column 'positive_senti'\n",
    "df_merged['positive_senti'] = df_merged['senti'].apply(lambda x: average_sentiments(x, 'pos'))\n",
    "df_merged['negative_senti'] = df_merged['senti'].apply(lambda x: average_sentiments(x, 'neg'))\n",
    "df_merged['neutral_senti'] = df_merged['senti'].apply(lambda x: average_sentiments(x, 'neu'))"
   ]
  },
  {
   "cell_type": "code",
   "execution_count": 37,
   "id": "ff116511-bf43-428d-8709-436d4af7a60e",
   "metadata": {},
   "outputs": [
    {
     "data": {
      "text/html": [
       "<div>\n",
       "<style scoped>\n",
       "    .dataframe tbody tr th:only-of-type {\n",
       "        vertical-align: middle;\n",
       "    }\n",
       "\n",
       "    .dataframe tbody tr th {\n",
       "        vertical-align: top;\n",
       "    }\n",
       "\n",
       "    .dataframe thead th {\n",
       "        text-align: right;\n",
       "    }\n",
       "</style>\n",
       "<table border=\"1\" class=\"dataframe\">\n",
       "  <thead>\n",
       "    <tr style=\"text-align: right;\">\n",
       "      <th></th>\n",
       "      <th>video_id</th>\n",
       "      <th>channelTitle</th>\n",
       "      <th>title</th>\n",
       "      <th>viewCount</th>\n",
       "      <th>likeCount</th>\n",
       "      <th>commentCount</th>\n",
       "      <th>comments</th>\n",
       "      <th>title_clean</th>\n",
       "      <th>date</th>\n",
       "      <th>day</th>\n",
       "      <th>duration(s)</th>\n",
       "      <th>year</th>\n",
       "      <th>month</th>\n",
       "      <th>clean</th>\n",
       "      <th>senti</th>\n",
       "      <th>positive_senti</th>\n",
       "      <th>negative_senti</th>\n",
       "      <th>neutral_senti</th>\n",
       "    </tr>\n",
       "  </thead>\n",
       "  <tbody>\n",
       "    <tr>\n",
       "      <th>0</th>\n",
       "      <td>KOEfDvr4DcQ</td>\n",
       "      <td>MrBeast</td>\n",
       "      <td>Face Your Biggest Fear To Win $800,000</td>\n",
       "      <td>101868832</td>\n",
       "      <td>4025540</td>\n",
       "      <td>151759</td>\n",
       "      <td>['The new Feastables bars will take some time ...</td>\n",
       "      <td>face big fear win money</td>\n",
       "      <td>2024-02-10</td>\n",
       "      <td>Saturday</td>\n",
       "      <td>1323</td>\n",
       "      <td>2024</td>\n",
       "      <td>2</td>\n",
       "      <td>[The new Feastables bars will take some time t...</td>\n",
       "      <td>[{'neg': 0.0, 'neu': 1.0, 'pos': 0.0, 'compoun...</td>\n",
       "      <td>0.175026</td>\n",
       "      <td>0.070807</td>\n",
       "      <td>0.719920</td>\n",
       "    </tr>\n",
       "    <tr>\n",
       "      <th>1</th>\n",
       "      <td>krsBRQbOPQ4</td>\n",
       "      <td>MrBeast</td>\n",
       "      <td>$1 vs $250,000,000 Private Island!</td>\n",
       "      <td>132353095</td>\n",
       "      <td>4380220</td>\n",
       "      <td>97258</td>\n",
       "      <td>['I hope you all enjoy how much we’ve been lev...</td>\n",
       "      <td>money vs money private island</td>\n",
       "      <td>2024-01-27</td>\n",
       "      <td>Saturday</td>\n",
       "      <td>1019</td>\n",
       "      <td>2024</td>\n",
       "      <td>1</td>\n",
       "      <td>[I hope you all enjoy how much weve been level...</td>\n",
       "      <td>[{'neg': 0.0, 'neu': 0.497, 'pos': 0.503, 'com...</td>\n",
       "      <td>0.185993</td>\n",
       "      <td>0.031824</td>\n",
       "      <td>0.727717</td>\n",
       "    </tr>\n",
       "    <tr>\n",
       "      <th>2</th>\n",
       "      <td>7ESeQBeikKs</td>\n",
       "      <td>MrBeast</td>\n",
       "      <td>Protect $500,000 Keep It!</td>\n",
       "      <td>110379739</td>\n",
       "      <td>4075544</td>\n",
       "      <td>75623</td>\n",
       "      <td>['The new Feastables branding and chocolate fo...</td>\n",
       "      <td>protect money keep</td>\n",
       "      <td>2024-01-13</td>\n",
       "      <td>Saturday</td>\n",
       "      <td>934</td>\n",
       "      <td>2024</td>\n",
       "      <td>1</td>\n",
       "      <td>[The new Feastables branding and chocolate for...</td>\n",
       "      <td>[{'neg': 0.12, 'neu': 0.728, 'pos': 0.152, 'co...</td>\n",
       "      <td>0.187616</td>\n",
       "      <td>0.028090</td>\n",
       "      <td>0.706690</td>\n",
       "    </tr>\n",
       "    <tr>\n",
       "      <th>3</th>\n",
       "      <td>K_CbgLpvH9E</td>\n",
       "      <td>MrBeast</td>\n",
       "      <td>I Spent 7 Days In Solitary Confinement</td>\n",
       "      <td>125032838</td>\n",
       "      <td>4230264</td>\n",
       "      <td>80321</td>\n",
       "      <td>['watch until the end for good luck', 'No cred...</td>\n",
       "      <td>spend number day solitary confinement</td>\n",
       "      <td>2023-12-30</td>\n",
       "      <td>Saturday</td>\n",
       "      <td>1216</td>\n",
       "      <td>2023</td>\n",
       "      <td>12</td>\n",
       "      <td>[watch until the end for good luck, No credits...</td>\n",
       "      <td>[{'neg': 0.0, 'neu': 0.459, 'pos': 0.541, 'com...</td>\n",
       "      <td>0.165002</td>\n",
       "      <td>0.033459</td>\n",
       "      <td>0.733439</td>\n",
       "    </tr>\n",
       "    <tr>\n",
       "      <th>4</th>\n",
       "      <td>lOKASgtr6kU</td>\n",
       "      <td>MrBeast</td>\n",
       "      <td>I Rescued 100 Abandoned Dogs!</td>\n",
       "      <td>124742129</td>\n",
       "      <td>4924317</td>\n",
       "      <td>94035</td>\n",
       "      <td>['Every family who adopted a dog was fully vet...</td>\n",
       "      <td>rescue number abandon dog</td>\n",
       "      <td>2023-12-23</td>\n",
       "      <td>Saturday</td>\n",
       "      <td>903</td>\n",
       "      <td>2023</td>\n",
       "      <td>12</td>\n",
       "      <td>[Every family who adopted a dog was fully vett...</td>\n",
       "      <td>[{'neg': 0.0, 'neu': 0.809, 'pos': 0.191, 'com...</td>\n",
       "      <td>0.213707</td>\n",
       "      <td>0.030198</td>\n",
       "      <td>0.704984</td>\n",
       "    </tr>\n",
       "  </tbody>\n",
       "</table>\n",
       "</div>"
      ],
      "text/plain": [
       "      video_id channelTitle                                   title  \\\n",
       "0  KOEfDvr4DcQ      MrBeast  Face Your Biggest Fear To Win $800,000   \n",
       "1  krsBRQbOPQ4      MrBeast      $1 vs $250,000,000 Private Island!   \n",
       "2  7ESeQBeikKs      MrBeast               Protect $500,000 Keep It!   \n",
       "3  K_CbgLpvH9E      MrBeast  I Spent 7 Days In Solitary Confinement   \n",
       "4  lOKASgtr6kU      MrBeast           I Rescued 100 Abandoned Dogs!   \n",
       "\n",
       "   viewCount  likeCount  commentCount  \\\n",
       "0  101868832    4025540        151759   \n",
       "1  132353095    4380220         97258   \n",
       "2  110379739    4075544         75623   \n",
       "3  125032838    4230264         80321   \n",
       "4  124742129    4924317         94035   \n",
       "\n",
       "                                            comments  \\\n",
       "0  ['The new Feastables bars will take some time ...   \n",
       "1  ['I hope you all enjoy how much we’ve been lev...   \n",
       "2  ['The new Feastables branding and chocolate fo...   \n",
       "3  ['watch until the end for good luck', 'No cred...   \n",
       "4  ['Every family who adopted a dog was fully vet...   \n",
       "\n",
       "                             title_clean       date       day  duration(s)  \\\n",
       "0                face big fear win money 2024-02-10  Saturday         1323   \n",
       "1          money vs money private island 2024-01-27  Saturday         1019   \n",
       "2                     protect money keep 2024-01-13  Saturday          934   \n",
       "3  spend number day solitary confinement 2023-12-30  Saturday         1216   \n",
       "4              rescue number abandon dog 2023-12-23  Saturday          903   \n",
       "\n",
       "   year  month                                              clean  \\\n",
       "0  2024      2  [The new Feastables bars will take some time t...   \n",
       "1  2024      1  [I hope you all enjoy how much weve been level...   \n",
       "2  2024      1  [The new Feastables branding and chocolate for...   \n",
       "3  2023     12  [watch until the end for good luck, No credits...   \n",
       "4  2023     12  [Every family who adopted a dog was fully vett...   \n",
       "\n",
       "                                               senti  positive_senti  \\\n",
       "0  [{'neg': 0.0, 'neu': 1.0, 'pos': 0.0, 'compoun...        0.175026   \n",
       "1  [{'neg': 0.0, 'neu': 0.497, 'pos': 0.503, 'com...        0.185993   \n",
       "2  [{'neg': 0.12, 'neu': 0.728, 'pos': 0.152, 'co...        0.187616   \n",
       "3  [{'neg': 0.0, 'neu': 0.459, 'pos': 0.541, 'com...        0.165002   \n",
       "4  [{'neg': 0.0, 'neu': 0.809, 'pos': 0.191, 'com...        0.213707   \n",
       "\n",
       "   negative_senti  neutral_senti  \n",
       "0        0.070807       0.719920  \n",
       "1        0.031824       0.727717  \n",
       "2        0.028090       0.706690  \n",
       "3        0.033459       0.733439  \n",
       "4        0.030198       0.704984  "
      ]
     },
     "execution_count": 37,
     "metadata": {},
     "output_type": "execute_result"
    }
   ],
   "source": [
    "df_merged.head(5)"
   ]
  },
  {
   "cell_type": "code",
   "execution_count": 38,
   "id": "1baccb2c-68bc-4b1b-9706-60c10cd41a16",
   "metadata": {},
   "outputs": [],
   "source": [
    "df_merged.to_csv('Dataset/mr_beast_dataset.csv', index = False)"
   ]
  }
 ],
 "metadata": {
  "kernelspec": {
   "display_name": "Python 3 (ipykernel)",
   "language": "python",
   "name": "python3"
  },
  "language_info": {
   "codemirror_mode": {
    "name": "ipython",
    "version": 3
   },
   "file_extension": ".py",
   "mimetype": "text/x-python",
   "name": "python",
   "nbconvert_exporter": "python",
   "pygments_lexer": "ipython3",
   "version": "3.7.16"
  }
 },
 "nbformat": 4,
 "nbformat_minor": 5
}
